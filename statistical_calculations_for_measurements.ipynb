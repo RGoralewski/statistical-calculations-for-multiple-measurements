{
  "nbformat": 4,
  "nbformat_minor": 0,
  "metadata": {
    "colab": {
      "name": "statistical_calculations_for_measurements.ipynb",
      "provenance": [],
      "collapsed_sections": [],
      "authorship_tag": "ABX9TyOehHYty6bHDqsIDLv1P85b",
      "include_colab_link": true
    },
    "kernelspec": {
      "name": "python3",
      "display_name": "Python 3"
    },
    "language_info": {
      "name": "python"
    }
  },
  "cells": [
    {
      "cell_type": "markdown",
      "metadata": {
        "id": "view-in-github",
        "colab_type": "text"
      },
      "source": [
        "<a href=\"https://colab.research.google.com/github/RGoralewski/statistical-calculations-for-multiple-measurements/blob/master/statistical_calculations_for_measurements.ipynb\" target=\"_parent\"><img src=\"https://colab.research.google.com/assets/colab-badge.svg\" alt=\"Open In Colab\"/></a>"
      ]
    },
    {
      "cell_type": "code",
      "execution_count": null,
      "metadata": {
        "colab": {
          "base_uri": "https://localhost:8080/"
        },
        "id": "ZJHmIO0MAOB4",
        "outputId": "bbf402a4-a72a-4ba9-fb41-5d8f9db21dcb"
      },
      "outputs": [
        {
          "output_type": "stream",
          "name": "stdout",
          "text": [
            "Mean values:\n",
            "0 - 164.66666666666666\n",
            "1 - 166.0\n",
            "2 - 164.0\n",
            "3 - 163.66666666666666\n",
            "4 - 166.0\n",
            "\n",
            "T-Student test between two subsequent measurements (p-values);\n",
            "0-1 - t=-2.000000000000014, p=0.11611652351681365\n",
            "0-2 - t=0.9999999999999858, p=0.37390096630006503\n",
            "0-3 - t=1.341640786499874, p=0.25081535976844554\n",
            "0-4 - t=-1.51185789203692, p=0.20510645520407486\n",
            "1-2 - t=inf, p=0.0\n",
            "1-3 - t=7.0000000000000275, p=0.0021921298066929075\n",
            "1-4 - t=0.0, p=1.0\n",
            "2-3 - t=1.0000000000000282, p=0.3739009663000467\n",
            "2-4 - t=-3.464101615137755, p=0.025721420742506516\n",
            "3-4 - t=-3.5000000000000138, p=0.02489616346022244\n"
          ]
        }
      ],
      "source": [
        "import numpy as np\n",
        "from scipy import stats\n",
        "\n",
        "\n",
        "# dane do obliczeń - 3 kolumny dla 3 pomiarów, wiersze to kolejne serie pomiarowe\n",
        "data = [[164, 164, 166],\n",
        "        [166, 166, 166],\n",
        "        [164, 164, 164],\n",
        "        [163, 164, 164],\n",
        "        [167, 166, 165]]\n",
        "\n",
        "# inne dane mogłyby wyglądać tak (struktura zawsze taka - przecinki między kolumnami i wierszami)\n",
        "data_2 = [[164, 164, 166],\n",
        "          [166, 166, 166],\n",
        "          [164, 164, 164],\n",
        "          [163, 164, 164]]\n",
        "\n",
        "print('Mean values:')\n",
        "means = np.mean(data, axis=1)\n",
        "for i, m in enumerate(means):\n",
        "  print(f'{i} - {m}')\n",
        "print()\n",
        "\n",
        "print('T-Student test between two subsequent measurements (p-values);')\n",
        "for i in range(len(data) - 1):\n",
        "  for j in range(i+1, len(data)):\n",
        "    t, p = stats.ttest_ind(data[i], data[j])\n",
        "    print(f'{i}-{j} - t={t}, p={p}')"
      ]
    }
  ]
}